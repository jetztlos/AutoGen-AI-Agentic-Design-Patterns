{
 "cells": [
  {
   "cell_type": "markdown",
   "id": "fc3024e2",
   "metadata": {},
   "source": [
    "# Lesson 3: Reflection and Blogpost Writing"
   ]
  },
  {
   "cell_type": "markdown",
   "id": "3b0cc42f",
   "metadata": {},
   "source": [
    "## Setup"
   ]
  },
  {
   "cell_type": "code",
   "execution_count": 1,
   "id": "96d39be0-eaf3-456d-8613-ba21099ed36b",
   "metadata": {
    "height": 30
   },
   "outputs": [],
   "source": [
    "llm_config = {\"model\": \"gpt-3.5-turbo\"}"
   ]
  },
  {
   "cell_type": "markdown",
   "id": "0969e6bb",
   "metadata": {},
   "source": [
    "## The task!"
   ]
  },
  {
   "cell_type": "code",
   "execution_count": 2,
   "id": "e8074032-3690-4de9-ad08-ea8323cb441b",
   "metadata": {
    "height": 136
   },
   "outputs": [],
   "source": [
    "task = '''\n",
    "        Write a concise but engaging blogpost about\n",
    "       DeepLearning.AI. Make sure the blogpost is\n",
    "       within 100 words.\n",
    "       '''\n"
   ]
  },
  {
   "cell_type": "markdown",
   "id": "1987f023",
   "metadata": {},
   "source": [
    "## Create a writer agent"
   ]
  },
  {
   "cell_type": "code",
   "execution_count": 3,
   "id": "fe0f0a47-a9fe-43a0-b7b1-79922e4c4ac8",
   "metadata": {
    "height": 204
   },
   "outputs": [],
   "source": [
    "import autogen\n",
    "\n",
    "writer = autogen.AssistantAgent(\n",
    "    name=\"Writer\",\n",
    "    system_message=\"You are a writer. You write engaging and concise \" \n",
    "        \"blogpost (with title) on given topics. You must polish your \"\n",
    "        \"writing based on the feedback you receive and give a refined \"\n",
    "        \"version. Only return your final work without additional comments.\",\n",
    "    llm_config=llm_config,\n",
    ")"
   ]
  },
  {
   "cell_type": "code",
   "execution_count": 4,
   "id": "7c7b4d8d-40f7-4a05-8958-25d20054de3a",
   "metadata": {
    "height": 51
   },
   "outputs": [],
   "source": [
    "reply = writer.generate_reply(messages=[{\"content\": task, \"role\": \"user\"}])"
   ]
  },
  {
   "cell_type": "code",
   "execution_count": 5,
   "id": "c501c97d-e338-4f36-a384-6ec45983cf77",
   "metadata": {
    "height": 30
   },
   "outputs": [
    {
     "name": "stdout",
     "output_type": "stream",
     "text": [
      "Title: Unleashing the Power of Deep Learning with DeepLearning.AI\n",
      "\n",
      "Embark on a journey to master the realm of deep learning with DeepLearning.AI, a leading online platform founded by the AI guru Andrew Ng. From beginner to advanced levels, dive into courses that unravel the mysteries of neural networks, computer vision, natural language processing, and more. Gain hands-on experience, work on real-world projects, and join a vibrant community of learners. Whether you aspire to boost your career or satisfy your curiosity, DeepLearning.AI equips you with the skills to thrive in the AI-driven world. Seize the opportunity to revolutionize your understanding of artificial intelligence today!\n"
     ]
    }
   ],
   "source": [
    "print(reply)"
   ]
  },
  {
   "cell_type": "markdown",
   "id": "49658114",
   "metadata": {},
   "source": [
    "## Adding reflection \n",
    "\n",
    "Create a critic agent to reflect on the work of the writer agent."
   ]
  },
  {
   "cell_type": "code",
   "execution_count": 6,
   "id": "c7fcd1c7-51ec-4915-8e97-bac03565c4c7",
   "metadata": {
    "height": 170
   },
   "outputs": [],
   "source": [
    "critic = autogen.AssistantAgent(\n",
    "    name=\"Critic\",\n",
    "    is_termination_msg=lambda x: x.get(\"content\", \"\").find(\"TERMINATE\") >= 0,\n",
    "    llm_config=llm_config,\n",
    "    system_message=\"You are a critic. You review the work of \"\n",
    "                \"the writer and provide constructive \"\n",
    "                \"feedback to help improve the quality of the content.\",\n",
    ")"
   ]
  },
  {
   "cell_type": "code",
   "execution_count": 7,
   "id": "899d5fdb-6081-470b-b287-8cf8b8142d0d",
   "metadata": {
    "height": 115
   },
   "outputs": [
    {
     "name": "stdout",
     "output_type": "stream",
     "text": [
      "\u001b[33mCritic\u001b[0m (to Writer):\n",
      "\n",
      "\n",
      "        Write a concise but engaging blogpost about\n",
      "       DeepLearning.AI. Make sure the blogpost is\n",
      "       within 100 words.\n",
      "       \n",
      "\n",
      "--------------------------------------------------------------------------------\n",
      "\u001b[33mWriter\u001b[0m (to Critic):\n",
      "\n",
      "Title: Unleashing the Power of Deep Learning with DeepLearning.AI\n",
      "\n",
      "Embark on a journey to master the realm of deep learning with DeepLearning.AI, a leading online platform founded by the AI guru Andrew Ng. From beginner to advanced levels, dive into courses that unravel the mysteries of neural networks, computer vision, natural language processing, and more. Gain hands-on experience, work on real-world projects, and join a vibrant community of learners. Whether you aspire to boost your career or satisfy your curiosity, DeepLearning.AI equips you with the skills to thrive in the AI-driven world. Seize the opportunity to revolutionize your understanding of artificial intelligence today!\n",
      "\n",
      "--------------------------------------------------------------------------------\n",
      "\u001b[33mCritic\u001b[0m (to Writer):\n",
      "\n",
      "This blogpost effectively captures the essence of DeepLearning.AI and conveys the excitement and potential for growth in the field of deep learning. The title is engaging and sets a positive tone for the content. The use of descriptive language and highlighting Andrew Ng's expertise adds credibility to the platform. \n",
      "\n",
      "To make the blogpost even more impactful, consider incorporating specific examples of standout courses or projects offered by DeepLearning.AI to provide a clearer picture of what learners can expect. Additionally, including testimonials or success stories from learners who have benefitted from the platform could further enhance the credibility and appeal of the content. \n",
      "\n",
      "Overall, this blogpost is well-written and informative, and with these enhancements, it could offer an even more compelling narrative to attract potential learners.\n",
      "\n",
      "--------------------------------------------------------------------------------\n",
      "\u001b[33mWriter\u001b[0m (to Critic):\n",
      "\n",
      "Title: Revolutionize Your AI Journey with DeepLearning.AI\n",
      "\n",
      "Dive into the dynamic world of deep learning with DeepLearning.AI, Andrew Ng's innovative online platform. Explore cutting-edge courses in neural networks, computer vision, and natural language processing. Unleash your potential through hands-on projects and community collaboration. Stand out in the AI landscape with practical skills and knowledge. Whether you're a novice or expert, DeepLearning.AI offers a transformative learning experience tailored to your goals. Join a global network of learners and drive AI innovation forward. Elevate your AI expertise today with DeepLearning.AI!\n",
      "\n",
      "--------------------------------------------------------------------------------\n"
     ]
    }
   ],
   "source": [
    "res = critic.initiate_chat(\n",
    "    recipient=writer,\n",
    "    message=task,\n",
    "    max_turns=2,\n",
    "    summary_method=\"last_msg\"\n",
    ")"
   ]
  },
  {
   "cell_type": "markdown",
   "id": "e7b76449",
   "metadata": {},
   "source": [
    "## Nested chat"
   ]
  },
  {
   "cell_type": "code",
   "execution_count": 8,
   "id": "401ecf92-63e9-40ff-aeed-1c404352e4ab",
   "metadata": {
    "height": 221
   },
   "outputs": [],
   "source": [
    "SEO_reviewer = autogen.AssistantAgent(\n",
    "    name=\"SEO Reviewer\",\n",
    "    llm_config=llm_config,\n",
    "    system_message=\"You are an SEO reviewer, known for \"\n",
    "        \"your ability to optimize content for search engines, \"\n",
    "        \"ensuring that it ranks well and attracts organic traffic. \" \n",
    "        \"Make sure your suggestion is concise (within 3 bullet points), \"\n",
    "        \"concrete and to the point. \"\n",
    "        \"Begin the review by stating your role.\",\n",
    ")\n"
   ]
  },
  {
   "cell_type": "code",
   "execution_count": 9,
   "id": "f85acb81-7ab9-4c84-b8bb-6fbae3dce848",
   "metadata": {
    "height": 204
   },
   "outputs": [],
   "source": [
    "legal_reviewer = autogen.AssistantAgent(\n",
    "    name=\"Legal Reviewer\",\n",
    "    llm_config=llm_config,\n",
    "    system_message=\"You are a legal reviewer, known for \"\n",
    "        \"your ability to ensure that content is legally compliant \"\n",
    "        \"and free from any potential legal issues. \"\n",
    "        \"Make sure your suggestion is concise (within 3 bullet points), \"\n",
    "        \"concrete and to the point. \"\n",
    "        \"Begin the review by stating your role.\",\n",
    ")"
   ]
  },
  {
   "cell_type": "code",
   "execution_count": 10,
   "id": "d46a177a-8088-4956-8d2b-3e916b8ca5e9",
   "metadata": {
    "height": 204
   },
   "outputs": [],
   "source": [
    "ethics_reviewer = autogen.AssistantAgent(\n",
    "    name=\"Ethics Reviewer\",\n",
    "    llm_config=llm_config,\n",
    "    system_message=\"You are an ethics reviewer, known for \"\n",
    "        \"your ability to ensure that content is ethically sound \"\n",
    "        \"and free from any potential ethical issues. \" \n",
    "        \"Make sure your suggestion is concise (within 3 bullet points), \"\n",
    "        \"concrete and to the point. \"\n",
    "        \"Begin the review by stating your role. \",\n",
    ")"
   ]
  },
  {
   "cell_type": "code",
   "execution_count": 11,
   "id": "a7b2ad6f-8ba6-436a-9459-14ffbe8a32d3",
   "metadata": {
    "height": 136
   },
   "outputs": [],
   "source": [
    "meta_reviewer = autogen.AssistantAgent(\n",
    "    name=\"Meta Reviewer\",\n",
    "    llm_config=llm_config,\n",
    "    system_message=\"You are a meta reviewer, you aggragate and review \"\n",
    "    \"the work of other reviewers and give a final suggestion on the content.\",\n",
    ")"
   ]
  },
  {
   "cell_type": "markdown",
   "id": "913beca1",
   "metadata": {},
   "source": [
    "## Orchestrate the nested chats to solve the task"
   ]
  },
  {
   "cell_type": "code",
   "execution_count": 12,
   "id": "a11a70c7-19ca-4e5a-ad3d-f2b481fb5915",
   "metadata": {
    "height": 561
   },
   "outputs": [],
   "source": [
    "def reflection_message(recipient, messages, sender, config):\n",
    "    return f'''Review the following content. \n",
    "            \\n\\n {recipient.chat_messages_for_summary(sender)[-1]['content']}'''\n",
    "\n",
    "review_chats = [\n",
    "    {\n",
    "     \"recipient\": SEO_reviewer, \n",
    "     \"message\": reflection_message, \n",
    "     \"summary_method\": \"reflection_with_llm\",\n",
    "     \"summary_args\": {\"summary_prompt\" : \n",
    "        \"Return review into as JSON object only:\"\n",
    "        \"{'Reviewer': '', 'Review': ''}. Here Reviewer should be your role\",},\n",
    "     \"max_turns\": 1},\n",
    "    {\n",
    "    \"recipient\": legal_reviewer, \"message\": reflection_message, \n",
    "     \"summary_method\": \"reflection_with_llm\",\n",
    "     \"summary_args\": {\"summary_prompt\" : \n",
    "        \"Return review into as JSON object only:\"\n",
    "        \"{'Reviewer': '', 'Review': ''}.\",},\n",
    "     \"max_turns\": 1},\n",
    "    {\"recipient\": ethics_reviewer, \"message\": reflection_message, \n",
    "     \"summary_method\": \"reflection_with_llm\",\n",
    "     \"summary_args\": {\"summary_prompt\" : \n",
    "        \"Return review into as JSON object only:\"\n",
    "        \"{'reviewer': '', 'review': ''}\",},\n",
    "     \"max_turns\": 1},\n",
    "     {\"recipient\": meta_reviewer, \n",
    "      \"message\": \"Aggregrate feedback from all reviewers and give final suggestions on the writing.\", \n",
    "     \"max_turns\": 1},\n",
    "]\n"
   ]
  },
  {
   "cell_type": "code",
   "execution_count": 13,
   "id": "b3a40b66-5061-460d-ad9d-c0dbcfbba2e9",
   "metadata": {
    "height": 81
   },
   "outputs": [],
   "source": [
    "critic.register_nested_chats(\n",
    "    review_chats,\n",
    "    trigger=writer,\n",
    ")"
   ]
  },
  {
   "cell_type": "markdown",
   "id": "43b8797d",
   "metadata": {},
   "source": [
    "**Note**: You might get a slightly different response than what's shown in the video. Feel free to try different task."
   ]
  },
  {
   "cell_type": "code",
   "execution_count": 14,
   "id": "3b8dcac3-1e72-43b7-9d5a-1be740f6efd5",
   "metadata": {
    "height": 115
   },
   "outputs": [
    {
     "name": "stdout",
     "output_type": "stream",
     "text": [
      "\u001b[33mCritic\u001b[0m (to Writer):\n",
      "\n",
      "\n",
      "        Write a concise but engaging blogpost about\n",
      "       DeepLearning.AI. Make sure the blogpost is\n",
      "       within 100 words.\n",
      "       \n",
      "\n",
      "--------------------------------------------------------------------------------\n",
      "\u001b[33mWriter\u001b[0m (to Critic):\n",
      "\n",
      "Title: Unleashing the Power of Deep Learning with DeepLearning.AI\n",
      "\n",
      "Embark on a journey to master the realm of deep learning with DeepLearning.AI, a leading online platform founded by the AI guru Andrew Ng. From beginner to advanced levels, dive into courses that unravel the mysteries of neural networks, computer vision, natural language processing, and more. Gain hands-on experience, work on real-world projects, and join a vibrant community of learners. Whether you aspire to boost your career or satisfy your curiosity, DeepLearning.AI equips you with the skills to thrive in the AI-driven world. Seize the opportunity to revolutionize your understanding of artificial intelligence today!\n",
      "\n",
      "--------------------------------------------------------------------------------\n",
      "\u001b[34m\n",
      "********************************************************************************\u001b[0m\n",
      "\u001b[34mStarting a new chat....\u001b[0m\n",
      "\u001b[34m\n",
      "********************************************************************************\u001b[0m\n",
      "\u001b[33mCritic\u001b[0m (to SEO Reviewer):\n",
      "\n",
      "Review the following content. \n",
      "            \n",
      "\n",
      " Title: Unleashing the Power of Deep Learning with DeepLearning.AI\n",
      "\n",
      "Embark on a journey to master the realm of deep learning with DeepLearning.AI, a leading online platform founded by the AI guru Andrew Ng. From beginner to advanced levels, dive into courses that unravel the mysteries of neural networks, computer vision, natural language processing, and more. Gain hands-on experience, work on real-world projects, and join a vibrant community of learners. Whether you aspire to boost your career or satisfy your curiosity, DeepLearning.AI equips you with the skills to thrive in the AI-driven world. Seize the opportunity to revolutionize your understanding of artificial intelligence today!\n",
      "\n",
      "--------------------------------------------------------------------------------\n",
      "\u001b[33mSEO Reviewer\u001b[0m (to Critic):\n",
      "\n",
      "As an SEO reviewer, here are my suggestions:\n",
      "\n",
      "1. **Incorporate Target Keywords**: Add relevant keywords like \"deep learning courses,\" \"online AI platform,\" \"Andrew Ng,\" or \"neural networks\" strategically in the content to improve search engine optimization.\n",
      "\n",
      "2. **Create Clear Call-to-Action**: End the content with a strong call-to-action prompting users to click, such as \"Enroll now for a deep learning course at DeepLearning.AI\" or \"Start mastering AI today with Andrew Ng's expertise.\"\n",
      "\n",
      "3. **Include Meta Description**: Write a concise and captivating meta description that summarizes the content and includes key phrases to increase the likelihood of appearing in search engine results.\n",
      "\n",
      "--------------------------------------------------------------------------------\n",
      "\u001b[34m\n",
      "********************************************************************************\u001b[0m\n",
      "\u001b[34mStarting a new chat....\u001b[0m\n",
      "\u001b[34m\n",
      "********************************************************************************\u001b[0m\n",
      "\u001b[33mCritic\u001b[0m (to Legal Reviewer):\n",
      "\n",
      "Review the following content. \n",
      "            \n",
      "\n",
      " Title: Unleashing the Power of Deep Learning with DeepLearning.AI\n",
      "\n",
      "Embark on a journey to master the realm of deep learning with DeepLearning.AI, a leading online platform founded by the AI guru Andrew Ng. From beginner to advanced levels, dive into courses that unravel the mysteries of neural networks, computer vision, natural language processing, and more. Gain hands-on experience, work on real-world projects, and join a vibrant community of learners. Whether you aspire to boost your career or satisfy your curiosity, DeepLearning.AI equips you with the skills to thrive in the AI-driven world. Seize the opportunity to revolutionize your understanding of artificial intelligence today!\n",
      "Context: \n",
      "{'Reviewer': 'SEO Specialist', 'Review': 'Suggestions provided have been implemented, such as incorporating target keywords, creating a clear call-to-action, and including a meta description to improve SEO.'}\n",
      "\n",
      "--------------------------------------------------------------------------------\n",
      "\u001b[33mLegal Reviewer\u001b[0m (to Critic):\n",
      "\n",
      "As a Legal Reviewer:\n",
      "\n",
      "1. Ensure compliance with intellectual property laws by confirming that all content, including course names and descriptions, does not infringe on any trademarks or copyrights owned by other entities.\n",
      "  \n",
      "2. Verify that any claims made regarding the effectiveness or results of the courses offered are substantiated with evidence to avoid potential false advertising issues.\n",
      "  \n",
      "3. Review privacy policies and data protection measures to guarantee that user information is collected, stored, and processed in accordance with relevant privacy laws such as GDPR or CCPA.\n",
      "\n",
      "--------------------------------------------------------------------------------\n",
      "\u001b[34m\n",
      "********************************************************************************\u001b[0m\n",
      "\u001b[34mStarting a new chat....\u001b[0m\n",
      "\u001b[34m\n",
      "********************************************************************************\u001b[0m\n",
      "\u001b[33mCritic\u001b[0m (to Ethics Reviewer):\n",
      "\n",
      "Review the following content. \n",
      "            \n",
      "\n",
      " Title: Unleashing the Power of Deep Learning with DeepLearning.AI\n",
      "\n",
      "Embark on a journey to master the realm of deep learning with DeepLearning.AI, a leading online platform founded by the AI guru Andrew Ng. From beginner to advanced levels, dive into courses that unravel the mysteries of neural networks, computer vision, natural language processing, and more. Gain hands-on experience, work on real-world projects, and join a vibrant community of learners. Whether you aspire to boost your career or satisfy your curiosity, DeepLearning.AI equips you with the skills to thrive in the AI-driven world. Seize the opportunity to revolutionize your understanding of artificial intelligence today!\n",
      "Context: \n",
      "{'Reviewer': 'SEO Specialist', 'Review': 'Suggestions provided have been implemented, such as incorporating target keywords, creating a clear call-to-action, and including a meta description to improve SEO.'}\n",
      "{'Reviewer': 'SEO Specialist', 'Review': 'Suggestions provided have been implemented, such as incorporating target keywords, creating a clear call-to-action, and including a meta description to improve SEO.'}\n",
      "\n",
      "--------------------------------------------------------------------------------\n",
      "\u001b[33mEthics Reviewer\u001b[0m (to Critic):\n",
      "\n",
      "As an ethics reviewer:\n",
      "\n",
      "- Ensure that all claims made about the platform's offerings (courses, projects, community, etc.) are accurate and supported by evidence.\n",
      "- Avoid any misleading language that could create unrealistic expectations about the outcomes or benefits of using DeepLearning.AI.\n",
      "- Clearly disclose any affiliations or sponsorships that may impact the objectivity of the content.\n",
      "\n",
      "--------------------------------------------------------------------------------\n",
      "\u001b[34m\n",
      "********************************************************************************\u001b[0m\n",
      "\u001b[34mStarting a new chat....\u001b[0m\n",
      "\u001b[34m\n",
      "********************************************************************************\u001b[0m\n",
      "\u001b[33mCritic\u001b[0m (to Meta Reviewer):\n",
      "\n",
      "Aggregrate feedback from all reviewers and give final suggestions on the writing.\n",
      "Context: \n",
      "{'Reviewer': 'SEO Specialist', 'Review': 'Suggestions provided have been implemented, such as incorporating target keywords, creating a clear call-to-action, and including a meta description to improve SEO.'}\n",
      "{'Reviewer': 'SEO Specialist', 'Review': 'Suggestions provided have been implemented, such as incorporating target keywords, creating a clear call-to-action, and including a meta description to improve SEO.'}\n",
      "{'reviewer': 'SEO Specialist', 'review': 'Suggestions provided have been implemented, such as incorporating target keywords, creating a clear call-to-action, and including a meta description to improve SEO.'}\n",
      "\n",
      "--------------------------------------------------------------------------------\n",
      "\u001b[33mMeta Reviewer\u001b[0m (to Critic):\n",
      "\n",
      "Feedback aggregation:\n",
      "- The SEO Specialist reviewers all noted that the suggestions provided have been implemented, including incorporating target keywords, creating a clear call-to-action, and including a meta description to improve SEO.\n",
      "\n",
      "Final suggestion on the writing:\n",
      "The implementation of the SEO suggestions seems to have been successful based on the reviewers' feedback. Continuing to monitor and adjust SEO strategies based on performance data will be crucial for long-term success. Consider expanding the scope of optimization efforts beyond just keywords to ensure a comprehensive SEO strategy. Keep up the good work in ensuring the content is optimized for search engines.\n"
     ]
    },
    {
     "name": "stdout",
     "output_type": "stream",
     "text": [
      "\n",
      "--------------------------------------------------------------------------------\n",
      "\u001b[33mCritic\u001b[0m (to Writer):\n",
      "\n",
      "Feedback aggregation:\n",
      "- The SEO Specialist reviewers all noted that the suggestions provided have been implemented, including incorporating target keywords, creating a clear call-to-action, and including a meta description to improve SEO.\n",
      "\n",
      "Final suggestion on the writing:\n",
      "The implementation of the SEO suggestions seems to have been successful based on the reviewers' feedback. Continuing to monitor and adjust SEO strategies based on performance data will be crucial for long-term success. Consider expanding the scope of optimization efforts beyond just keywords to ensure a comprehensive SEO strategy. Keep up the good work in ensuring the content is optimized for search engines.\n",
      "\n",
      "--------------------------------------------------------------------------------\n",
      "\u001b[33mWriter\u001b[0m (to Critic):\n",
      "\n",
      "Title: Unleashing the Power of Deep Learning with DeepLearning.AI\n",
      "\n",
      "Embark on a transformative journey into deep learning expertise with DeepLearning.AI, crafted by AI luminary Andrew Ng. From foundational to advanced courses, explore neural networks, computer vision, and natural language processing. Engage in practical projects, tap into a vibrant learning community. Whether you aspire career growth or knowledge, DeepLearning.AI equips you for the AI era. Seize the chance to amplify your AI proficiency today!\n",
      "\n",
      "--------------------------------------------------------------------------------\n"
     ]
    }
   ],
   "source": [
    "res = critic.initiate_chat(\n",
    "    recipient=writer,\n",
    "    message=task,\n",
    "    max_turns=2,\n",
    "    summary_method=\"last_msg\"\n",
    ")"
   ]
  },
  {
   "cell_type": "markdown",
   "id": "c5c833b0",
   "metadata": {},
   "source": [
    "## Get the summary"
   ]
  },
  {
   "cell_type": "code",
   "execution_count": 15,
   "id": "68ef82ed-f102-4964-b7be-60e2f258a39b",
   "metadata": {
    "height": 30
   },
   "outputs": [
    {
     "name": "stdout",
     "output_type": "stream",
     "text": [
      "Title: Unleashing the Power of Deep Learning with DeepLearning.AI\n",
      "\n",
      "Embark on a transformative journey into deep learning expertise with DeepLearning.AI, crafted by AI luminary Andrew Ng. From foundational to advanced courses, explore neural networks, computer vision, and natural language processing. Engage in practical projects, tap into a vibrant learning community. Whether you aspire career growth or knowledge, DeepLearning.AI equips you for the AI era. Seize the chance to amplify your AI proficiency today!\n"
     ]
    }
   ],
   "source": [
    "print(res.summary)"
   ]
  }
 ],
 "metadata": {
  "kernelspec": {
   "display_name": "Python 3 (ipykernel)",
   "language": "python",
   "name": "python3"
  },
  "language_info": {
   "codemirror_mode": {
    "name": "ipython",
    "version": 3
   },
   "file_extension": ".py",
   "mimetype": "text/x-python",
   "name": "python",
   "nbconvert_exporter": "python",
   "pygments_lexer": "ipython3",
   "version": "3.11.9"
  }
 },
 "nbformat": 4,
 "nbformat_minor": 5
}
